{
  "nbformat": 4,
  "nbformat_minor": 0,
  "metadata": {
    "colab": {
      "provenance": [],
      "authorship_tag": "ABX9TyOm2d030wtD6abdM1ZFoiNl",
      "include_colab_link": true
    },
    "kernelspec": {
      "name": "python3",
      "display_name": "Python 3"
    },
    "language_info": {
      "name": "python"
    }
  },
  "cells": [
    {
      "cell_type": "markdown",
      "metadata": {
        "id": "view-in-github",
        "colab_type": "text"
      },
      "source": [
        "<a href=\"https://colab.research.google.com/github/Omkar2703/Python-for-Data-Science/blob/main/Lab1_preprocessing.ipynb\" target=\"_parent\"><img src=\"https://colab.research.google.com/assets/colab-badge.svg\" alt=\"Open In Colab\"/></a>"
      ]
    },
    {
      "cell_type": "markdown",
      "source": [
        "### Name: Omkar Patil\n",
        "### Roll no: 21102A0003\n",
        "### Branch-Div: BE CMPN A"
      ],
      "metadata": {
        "id": "v9Rbu7n3zX97"
      }
    },
    {
      "cell_type": "markdown",
      "source": [
        "## Preprocessing"
      ],
      "metadata": {
        "id": "z0zvRzVmzSqt"
      }
    },
    {
      "cell_type": "code",
      "source": [
        "!pip install autocorrect"
      ],
      "metadata": {
        "colab": {
          "base_uri": "https://localhost:8080/"
        },
        "id": "VJv69_oDymgP",
        "outputId": "03efdc77-5d53-463d-e1c2-a70913c55233"
      },
      "execution_count": 2,
      "outputs": [
        {
          "output_type": "stream",
          "name": "stdout",
          "text": [
            "Collecting autocorrect\n",
            "  Downloading autocorrect-2.6.1.tar.gz (622 kB)\n",
            "\u001b[?25l     \u001b[90m━━━━━━━━━━━━━━━━━━━━━━━━━━━━━━━━━━━━━━━━\u001b[0m \u001b[32m0.0/622.8 kB\u001b[0m \u001b[31m?\u001b[0m eta \u001b[36m-:--:--\u001b[0m\r\u001b[2K     \u001b[90m━━━━━━━━━━━━━━━━━━━━━━━━━━━━━━━━━━━━━━━━\u001b[0m \u001b[32m622.8/622.8 kB\u001b[0m \u001b[31m25.5 MB/s\u001b[0m eta \u001b[36m0:00:00\u001b[0m\n",
            "\u001b[?25h  Preparing metadata (setup.py) ... \u001b[?25l\u001b[?25hdone\n",
            "Building wheels for collected packages: autocorrect\n",
            "  Building wheel for autocorrect (setup.py) ... \u001b[?25l\u001b[?25hdone\n",
            "  Created wheel for autocorrect: filename=autocorrect-2.6.1-py3-none-any.whl size=622364 sha256=fb08b3bcf1ac51300bd70effae15785885f20663feb44c8c0182820ec92335cf\n",
            "  Stored in directory: /root/.cache/pip/wheels/b5/7b/6d/b76b29ce11ff8e2521c8c7dd0e5bfee4fb1789d76193124343\n",
            "Successfully built autocorrect\n",
            "Installing collected packages: autocorrect\n",
            "Successfully installed autocorrect-2.6.1\n"
          ]
        }
      ]
    },
    {
      "cell_type": "code",
      "source": [
        "import re\n",
        "import nltk\n",
        "from nltk.tokenize import word_tokenize, sent_tokenize\n",
        "from nltk.corpus import stopwords\n",
        "from nltk import pos_tag, ne_chunk\n",
        "from nltk.stem import WordNetLemmatizer\n",
        "from autocorrect import Speller"
      ],
      "metadata": {
        "id": "mfVBtHy1yp9j"
      },
      "execution_count": 3,
      "outputs": []
    },
    {
      "cell_type": "code",
      "source": [
        "nltk.download('punkt')  # For tokenization\n",
        "nltk.download('stopwords')  # For stop word removal\n",
        "nltk.download('averaged_perceptron_tagger')  # For POS tagging\n",
        "nltk.download('maxent_ne_chunker')  # For Named Entity Recognition\n",
        "nltk.download('words')  # Required for NER\n",
        "nltk.download('wordnet')  # For lemmatization"
      ],
      "metadata": {
        "colab": {
          "base_uri": "https://localhost:8080/"
        },
        "id": "ggM6y-XOytkA",
        "outputId": "c44e972f-cdaf-4ae4-d33c-f4651370070c"
      },
      "execution_count": 4,
      "outputs": [
        {
          "output_type": "stream",
          "name": "stderr",
          "text": [
            "[nltk_data] Downloading package punkt to /root/nltk_data...\n",
            "[nltk_data]   Unzipping tokenizers/punkt.zip.\n",
            "[nltk_data] Downloading package stopwords to /root/nltk_data...\n",
            "[nltk_data]   Unzipping corpora/stopwords.zip.\n",
            "[nltk_data] Downloading package averaged_perceptron_tagger to\n",
            "[nltk_data]     /root/nltk_data...\n",
            "[nltk_data]   Unzipping taggers/averaged_perceptron_tagger.zip.\n",
            "[nltk_data] Downloading package maxent_ne_chunker to\n",
            "[nltk_data]     /root/nltk_data...\n",
            "[nltk_data]   Unzipping chunkers/maxent_ne_chunker.zip.\n",
            "[nltk_data] Downloading package words to /root/nltk_data...\n",
            "[nltk_data]   Unzipping corpora/words.zip.\n",
            "[nltk_data] Downloading package wordnet to /root/nltk_data...\n"
          ]
        },
        {
          "output_type": "execute_result",
          "data": {
            "text/plain": [
              "True"
            ]
          },
          "metadata": {},
          "execution_count": 4
        }
      ]
    },
    {
      "cell_type": "code",
      "source": [
        "def preprocess_corpus(corpus):\n",
        "    # Sentence segmentation: Split the corpus into individual sentences\n",
        "    sentences = sent_tokenize(corpus)\n",
        "\n",
        "    processed_sentences = []\n",
        "\n",
        "    for sentence in sentences:\n",
        "        # Lowercasing: Convert all text to lowercase\n",
        "        sentence = sentence.lower()\n",
        "\n",
        "        # Number handling: Remove all digits\n",
        "        # Note: This simple approach removes all numbers. Modify as needed.\n",
        "        sentence = re.sub(r'\\d+', '', sentence)\n",
        "\n",
        "        # Tokenization: Split sentence into individual words\n",
        "        tokens = word_tokenize(sentence)\n",
        "\n",
        "        # Stop word removal: Remove common words that don't carry much meaning\n",
        "        stop_words = set(stopwords.words('english'))\n",
        "        tokens = [token for token in tokens if token not in stop_words]\n",
        "\n",
        "        # Spelling correction: Correct misspelled words\n",
        "        # Note: This uses the autocorrect library and may need adjustments\n",
        "        spell = Speller()\n",
        "        tokens = [spell(token) for token in tokens]\n",
        "\n",
        "        # Text normalization: Lemmatization\n",
        "        # Convert words to their base or dictionary form\n",
        "        lemmatizer = WordNetLemmatizer()\n",
        "        tokens = [lemmatizer.lemmatize(token) for token in tokens]\n",
        "\n",
        "        # Named Entity Recognition (NER)\n",
        "        # First, perform Part-of-Speech (POS) tagging\n",
        "        pos_tags = pos_tag(tokens)\n",
        "        # Then, identify named entities\n",
        "        named_entities = ne_chunk(pos_tags)\n",
        "\n",
        "        # Reconstruct the sentence from processed tokens\n",
        "        processed_sentence = ' '.join(tokens)\n",
        "        processed_sentences.append(processed_sentence)\n",
        "\n",
        "    # Join all processed sentences back into a single text\n",
        "    processed_corpus = ' '.join(processed_sentences)\n",
        "\n",
        "    # Return both the processed corpus and the named entities\n",
        "    return processed_corpus, named_entities"
      ],
      "metadata": {
        "id": "ufcCjgPqy0hD"
      },
      "execution_count": 5,
      "outputs": []
    },
    {
      "cell_type": "code",
      "source": [
        "corpus = \"\"\"\n",
        "Lorem Ipsum is simply dummy text of the printing and typesetting industry. Lorem Ipsum has been the industry's standard dummy text ever since the 1500s, when an unknown printer took a galley of type and scrambled it to make a type specimen book. It has survived not only five centuries, but also the leap into electronic typesetting, remaining essentially unchanged. It was popularised in the 1960s with the release of Letraset sheets containing Lorem Ipsum passages, and more recently with desktop publishing software like Aldus PageMaker including versions of Lorem Ipsum.\n",
        "\"\"\"\n",
        "\n",
        "# Apply preprocessing to the example corpus\n",
        "processed_corpus, named_entities = preprocess_corpus(corpus)"
      ],
      "metadata": {
        "id": "KGYtqPJ8y-uN"
      },
      "execution_count": 6,
      "outputs": []
    },
    {
      "cell_type": "code",
      "source": [
        "print(\"Processed Corpus:\")\n",
        "print(processed_corpus)\n",
        "\n",
        "print(\"\\nNamed Entities:\")\n",
        "print(named_entities)\n",
        "\n",
        "# Note: The output will show the processed text with lowercased words,\n",
        "# removed stop words and numbers, corrected spellings, and lemmatized words.\n",
        "# Named entities will be displayed separately in a tree structure"
      ],
      "metadata": {
        "colab": {
          "base_uri": "https://localhost:8080/"
        },
        "id": "iXccocY7zLvk",
        "outputId": "76b1a882-4b71-4071-c79c-f04bd3a6a709"
      },
      "execution_count": 7,
      "outputs": [
        {
          "output_type": "stream",
          "name": "stdout",
          "text": [
            "Processed Corpus:\n",
            "lore ipsum simply dummy text printing typesetting industry . lore ipsum industry 's standard dummy text ever since , unknown printer took galley type scrambled make type specimen book . survived five century , also leap electronic typesetting , remaining essentially unchanged . popularised release letraset sheet containing lore ipsum passage , recently desktop publishing software like album pacemaker including version lore ipsum .\n",
            "\n",
            "Named Entities:\n",
            "(S\n",
            "  popularised/JJ\n",
            "  release/NN\n",
            "  letraset/JJ\n",
            "  sheet/NN\n",
            "  containing/VBG\n",
            "  lore/JJR\n",
            "  ipsum/JJ\n",
            "  passage/NN\n",
            "  ,/,\n",
            "  recently/RB\n",
            "  desktop/VBD\n",
            "  publishing/NN\n",
            "  software/NN\n",
            "  like/IN\n",
            "  album/NN\n",
            "  pacemaker/NN\n",
            "  including/VBG\n",
            "  version/NN\n",
            "  lore/RB\n",
            "  ipsum/NN\n",
            "  ./.)\n"
          ]
        }
      ]
    }
  ]
}